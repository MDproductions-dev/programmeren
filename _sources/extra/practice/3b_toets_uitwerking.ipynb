{
 "cells": [
  {
   "cell_type": "markdown",
   "metadata": {},
   "source": [
    "# Uitwerkingen toets"
   ]
  },
  {
   "cell_type": "markdown",
   "metadata": {},
   "source": [
    "## Opgave 1\n",
    "\n",
    "Bij deze opgave gaat het om het definiëren van variabelen."
   ]
  },
  {
   "cell_type": "code",
   "execution_count": 1,
   "metadata": {},
   "outputs": [],
   "source": [
    "m = 10\n",
    "c = 299792458\n",
    "e = m * c ** 2"
   ]
  },
  {
   "cell_type": "markdown",
   "metadata": {},
   "source": [
    "Bedenk dat als je niet goed weet welke operator (`*`, `//`, `+`, etc.) voorrang heeft je kan groeperen met ronde haken, bijvoorbeeld\n",
    "\n",
    "```python\n",
    "e = m * (c ** 2)\n",
    "```"
   ]
  },
  {
   "cell_type": "markdown",
   "metadata": {},
   "source": [
    "## Opgave 2\n",
    "\n",
    "Deze opgave gaat over *conditional statements* en met name over het uitsluiten van mogelijkheden.\n",
    "\n",
    "```python\n",
    "if percentage >= 90:\n",
    "    grade = \"A\"\n",
    "elif percentage >= 80:\n",
    "    grade = \"B\"\n",
    "elif percentage >= 70:\n",
    "    grade = \"C\"\n",
    "elif percentage >= 60:\n",
    "    grade = \"D\"\n",
    "else:\n",
    "    grade = \"F\"\n",
    "```\n",
    "\n",
    "Variaties zijn natuurlijk mogelijk, je zou dit ook met alleen maar `if` en `else` statements kunnen uitschrijven, bijvoorbeeld\n",
    "\n",
    "```python\n",
    "if percentage >= 90:\n",
    "    grade = \"A\"\n",
    "else:\n",
    "    if percentage >= 80:\n",
    "        grade = \"B\"\n",
    "    else:\n",
    "        if percentage >= 70:\n",
    "            grade = \"C\"\n",
    "        else:\n",
    "            if percentage >= 60:\n",
    "                grade = \"D\"\n",
    "            else:\n",
    "                grade = \"F\"\n",
    "```"
   ]
  },
  {
   "cell_type": "markdown",
   "metadata": {},
   "source": [
    "## Opgave 3\n",
    "\n",
    "Deze opgave gaat over sorteren (en specifiek hoe Python sorteert).\n",
    "\n",
    "Karakters hebben een numerieke representatie (denk aan ASCII) en Python zal op basis van deze numerieke waarde sorteren. Als de eerste karakters gelijk zijn (bijvoorbeeld \"H\" bij \"HUIS\" en \"HAARD\") zal Python het volgende karakter nemen om verder te sorteren (\"U\" en \"A\")."
   ]
  },
  {
   "cell_type": "code",
   "execution_count": 2,
   "metadata": {},
   "outputs": [],
   "source": [
    "words = [\n",
    "    \"ALLEENSTAAND\",\n",
    "    \"FIETS\",\n",
    "    \"GROETEN\",\n",
    "    \"ROBOTICA\",\n",
    "    \"KLUS\",\n",
    "    \"TAKENPAKKET\",\n",
    "    \"XYLOFOON\",\n",
    "]"
   ]
  },
  {
   "cell_type": "code",
   "execution_count": 3,
   "metadata": {},
   "outputs": [],
   "source": [
    "lengths = [len(x) for x in words if x > \"HANZE\" and x < \"TENTAMEN\"]"
   ]
  },
  {
   "cell_type": "code",
   "execution_count": 4,
   "metadata": {},
   "outputs": [
    {
     "data": {
      "text/plain": [
       "[8, 4, 11]"
      ]
     },
     "execution_count": 4,
     "metadata": {},
     "output_type": "execute_result"
    }
   ],
   "source": [
    "lengths"
   ]
  },
  {
   "cell_type": "markdown",
   "metadata": {},
   "source": [
    "Als een kleine variatie op deze opgave, bedenk dat je een `LoL` strategie kan volgen om naast de lengte van het woord ook het woord zelf op te nemen in het resultaat:"
   ]
  },
  {
   "cell_type": "code",
   "execution_count": 5,
   "metadata": {},
   "outputs": [
    {
     "data": {
      "text/plain": [
       "[[8, 'ROBOTICA'], [4, 'KLUS'], [11, 'TAKENPAKKET']]"
      ]
     },
     "execution_count": 5,
     "metadata": {},
     "output_type": "execute_result"
    }
   ],
   "source": [
    "[[len(x), x] for x in words if x > \"HANZE\" and x < \"TENTAMEN\"]"
   ]
  },
  {
   "cell_type": "markdown",
   "metadata": {},
   "source": [
    "## Opgave 4\n",
    "\n",
    "Deze opgave gaat over het kunnen identificeren van base- en recursive case(s). In dit geval kunnen twee base cases en één recursieve case worden bepaald."
   ]
  },
  {
   "cell_type": "code",
   "execution_count": 6,
   "metadata": {},
   "outputs": [],
   "source": [
    "def manhattan(x, y):\n",
    "    if x < 0 or y < 0:  # base case\n",
    "        return 0\n",
    "    elif x == 0 or y == 0: # base case\n",
    "        return 1\n",
    "    else:  # recursive case\n",
    "        return manhattan(x - 1, y) + manhattan(x, y - 1)"
   ]
  },
  {
   "cell_type": "markdown",
   "metadata": {},
   "source": [
    "## Opgave 5\n",
    "\n",
    "Deze opgave gaat over het gebruik van list of lists (`LoL`'s). In de extra *list comprehension* opgaven kan je een opgave `mul_table` vinden met een beschijving van hoe je per rij paarsgewijs `x` en `y` kan zetten om te komen tot een vermenigvuldigingstabel. Dit probleem volgt hetzelfde principe."
   ]
  },
  {
   "cell_type": "code",
   "execution_count": 7,
   "metadata": {},
   "outputs": [],
   "source": [
    "def manhattan_table(size):\n",
    "    table = [[manhattan(x, y) for x in range(size)] for y in range(size)]\n",
    "    return table"
   ]
  },
  {
   "cell_type": "markdown",
   "metadata": {},
   "source": [
    "## Opgave 6\n",
    "\n",
    "Use it or lose it! Dit is een klassiek optimalisatieprobleem waar je uit een set van boeken moet kiezen welke combinatie het beste een boekenplank vult. In het boek onder hoofdstuk 2 vind je bij \"Use It or Lose It\" de beschrijving van dit algoritme."
   ]
  },
  {
   "cell_type": "code",
   "execution_count": 8,
   "metadata": {},
   "outputs": [],
   "source": [
    "def bookcase(size, books):\n",
    "    if len(books) == 0:\n",
    "        return 0\n",
    "\n",
    "    first = books[0]\n",
    "    rest = books[1:]\n",
    "\n",
    "    if first > size:\n",
    "        return bookcase(size, rest)\n",
    "\n",
    "    if first == size:\n",
    "        return size\n",
    "\n",
    "    if first < size:\n",
    "        use_it = first + bookcase(size - first, rest)\n",
    "        lose_it = bookcase(size, rest)\n",
    "\n",
    "        return max(use_it, lose_it)"
   ]
  }
 ],
 "metadata": {
  "kernelspec": {
   "display_name": "Python 3",
   "language": "python",
   "name": "python3"
  },
  "language_info": {
   "codemirror_mode": {
    "name": "ipython",
    "version": 3
   },
   "file_extension": ".py",
   "mimetype": "text/x-python",
   "name": "python",
   "nbconvert_exporter": "python",
   "pygments_lexer": "ipython3",
   "version": "3.8.6"
  }
 },
 "nbformat": 4,
 "nbformat_minor": 4
}
