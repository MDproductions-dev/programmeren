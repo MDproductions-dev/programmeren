{
 "cells": [
  {
   "cell_type": "markdown",
   "metadata": {},
   "source": [
    "# Toets\n",
    "\n",
    "Deze toets gaat over de volgende onderwerpen:\n",
    "\n",
    "- variabelen\n",
    "- conditionele statements\n",
    "- recursie\n",
    "- list comprehension\n",
    "- *List of lists* en *use it or lose it* strategieën"
   ]
  },
  {
   "cell_type": "markdown",
   "metadata": {},
   "source": [
    "## Opgave 1\n",
    "\n",
    "De hoeveelheid energie die vrijkomt bij een kernexplosie kan berekend worden met\n",
    "de formule $e = mc^{2}$. De variabele $m$ bevat het gewicht in gram dat omgezet wordt in\n",
    "energie, en de constante $c$ is de lichtsnelheid, 299792458 m/s.\n",
    "\n",
    "Schrijf een aantal toekenningen (geen functie) die de variabelen $m$ en $c$ toekent waarbij\n",
    "$m$ de waarde 10 krijgt, en de variabele $e$ berekent aan de hand van de gegeven formule."
   ]
  },
  {
   "cell_type": "markdown",
   "metadata": {},
   "source": [
    "## Opgave 2\n",
    "\n",
    "Het Amerikaanse schoolsysteem gebruikt letters in plaats van cijfers als scores voor\n",
    "tentamens. Hieronder vind je een tabel waar je kan zien welke letter bij welk scorepercentage hoort.\n",
    "\n",
    "| Letter | Percentage |\n",
    "|--------|------------|\n",
    "| A      | 90 - 100   |\n",
    "| B      | 80 - 89    |\n",
    "| C      | 70 - 79    |\n",
    "| D      | 60 - 69    |\n",
    "| E      | 0 - 59     |\n",
    "\n",
    "Gegeven is variabele `percentage` met een scorepercentage. Schrijf een conditioneel\n",
    "statement (geen functie) om de letter bij het gegeven scorepercentage te bepalen. Sla\n",
    "deze letter op in de variabele `grade`."
   ]
  },
  {
   "cell_type": "markdown",
   "metadata": {},
   "source": [
    "## Opgave 3\n",
    "\n",
    "Gegeven is een lijst woorden `words`. Een voorbeeld van de inhoud van deze lijst zie je\n",
    "hieronder.\n",
    "\n",
    "```python\n",
    "words = [\n",
    "    \"ALLEENSTAAND\",\n",
    "    \"FIETS\",\n",
    "    \"GROETEN\",\n",
    "    \"ROBOTICA\",\n",
    "    \"KLUS\",\n",
    "    \"TAKENPAKKET\",\n",
    "    \"XYLOFOON\",\n",
    "]\n",
    "```\n",
    "Schrijf een list comprehension (geen functie) die een lijst maakt met de *lengtes* van\n",
    "de woorden die alfabetisch na HANZE en voor TENTAMEN komen. Sla deze lijst op in\n",
    "de variabele `lengths`. Je mag ervan uitgaan dat de woorden alleen uit hoofdletters\n",
    "bestaan.\n",
    "\n",
    "In dit voorbeeld zou de variabele lengths dus als waarde de lijst `[8, 4, 11]` krijgen."
   ]
  },
  {
   "cell_type": "markdown",
   "metadata": {},
   "source": [
    "## Opgave 4\n",
    "\n",
    "Het stratenplan van Manhattan bestaat zoals bekend voornamelijk uit rechte wegen, die loodrecht op elkaar staan. Je kan dan ook zowel de horizontale straten (streets) als de verticale straten (avenues) met een nummer aanduiden. Je kan je afvragen op hoeveel manieren je een bepaalde streets en avenues kan overburggen: je kan bijvoorbeeld eerst alle streets afgaan, en daarna alle avenues, of andersom.\n",
    "\n",
    "We noemen deze functie `manhattan(x, y)`, waarbij `x` het te overbruggen aantal avenues is (dus de horizontale afstand, en `y` het aantal streets (dus de verticale afstand). Als je bijvoorbeeld 3 horizontale en 4 verticale stappen zet, zijn er 35 mogelijkheden om dit pad te maken, dus `manhattan(3, 4)` is gelijk aan 35. Je kan deze functie via onderstaand recursief algoritme berekenen:\n",
    "\n",
    "- Als `x` of `y` kleiner dan 0 is, dan is `manhattan(x, y)` gelijk aan 0.\n",
    "- Als `x` of `y` gelijk aan 0 is, dan is `manhattan(x, y)` gelijk aan 1.\n",
    "- Anders is `manhattan(x, y)` gelijk aan `manhattan(x - 1, y) + manhattan(x, y - 1)`\n",
    "\n",
    "Schrijf een functie `manhattan(x, y)` die het bovenstaande *recursive* algoritme implementeert. Je mag geen gebruik maken van list comprehensions of lusconstructies."
   ]
  },
  {
   "cell_type": "markdown",
   "metadata": {},
   "source": [
    "## Opgave 5\n",
    "\n",
    "De waarden die door de functie `manhattan(x, y)` uit opgave 4 worden uitgerekend kunnen in een tabel worden gezet, zodat je makkelijk kan aflezen hoeveel paden er zijn voor een gegeven x en y. Deze tabel kan je als volgt in een lijst in Python weergeven, als je een tabel van vijf bij vijf maakt:\n",
    "\n",
    "```python\n",
    "[\n",
    "    [1, 1, 1, 1, 1],\n",
    "    [1, 2, 3, 4, 5],\n",
    "    [1, 3, 6, 10, 15],\n",
    "    [1, 4, 10, 20, 35],\n",
    "    [1, 5, 15, 35, 70],\n",
    "]\n",
    "```\n",
    "\n",
    "Stel we noemen deze lijst `table`, dan kan je bijvoorbeeld `manhattan(3, 4)` bepalen door `table[3][4]` te bekijken."
   ]
  },
  {
   "cell_type": "markdown",
   "metadata": {},
   "source": [
    "### 5a\n",
    "\n",
    "Beschrijf hoe je een functie `manhattan_table(size)` kan maken om bovenstaande vraag te beantwoorden, met behulp van *list comprehensions*. Licht de stappen toe die je nodig hebt om tot het goede resultaat te komen. Het formaat van de tabel wordt meegegeven in de parameter size; in het voorbeeld was de waarde van size dus 5.\n",
    "\n",
    "Je mag hierbij gebruik maken van de functie `manhattan` uit opgave 4, ook als je die niet\n",
    "gemaakt hebt."
   ]
  },
  {
   "cell_type": "markdown",
   "metadata": {},
   "source": [
    "### 5b\n",
    "\n",
    "Schrijf de functie `manhattan_table(size)` aan de hand van het algoritme dat je bij opgave 5a hebt ontworpen. Maak gebruik van *list comprehensions*. Je mag geen gebruik maken van recursie of lusconstructies."
   ]
  },
  {
   "cell_type": "markdown",
   "metadata": {},
   "source": [
    "## Opgave 6\n",
    "\n",
    "Je hebt een verzameling boeken die je op je boekenplank wilt plaatsen. Je boekenplank is echter niet lang genoeg om alle boeken op te zetten. Je vraagt je af hoeveel ruimte van de boekenplank je kan gebruiken. Dit betekent niet zo veel mogelijk boeken; een dik boek dat precies de hele boekenplank opvult is beter dan vijf boeken die ruimte over laten.\n",
    "\n",
    "Als je bijvoorbeeld een boekenplank van 25 cm hebt, en boeken met de diktes 20, 5, 8, 4, 6 en 6 cm, is de gebruikte ruimte 25 cm. Je kan immers de boeken van 20 en 5 precies op de boekenplank passen. Zou je het boek van 5 cm vervangen door een boek van 3 cm, dan kan je nog maar 24 cm vullen."
   ]
  },
  {
   "cell_type": "markdown",
   "metadata": {},
   "source": [
    "### 6a\n",
    "\n",
    "Beschrijf hoe je een *recursief algoritme* kan gebruiken om een functie `bookcase(size, books)` te schrijven die de gebruikte lengte van de boekenplank kan bepalen. De lengte van de boekenplank wordt meegegeven in de parameter size, en de diktes van de boeken als lijst in de parameter books\n",
    "\n",
    "Laat zien wat de *basis-* en de *recursieve* gevallen zijn."
   ]
  },
  {
   "cell_type": "markdown",
   "metadata": {},
   "source": [
    "### 6b\n",
    "\n",
    "Schrijf de functie `bookcase(size, books)` aan de hand van het algoritme dat je bij opgave 6a hebt ontworpen. Maak gebruik van recursie. Je mag geen gebruik maken van list comprehensions of lusconstructies."
   ]
  }
 ],
 "metadata": {
  "kernelspec": {
   "display_name": "Python 3",
   "language": "python",
   "name": "python3"
  },
  "language_info": {
   "codemirror_mode": {
    "name": "ipython",
    "version": 3
   },
   "file_extension": ".py",
   "mimetype": "text/x-python",
   "name": "python",
   "nbconvert_exporter": "python",
   "pygments_lexer": "ipython3",
   "version": "3.8.6"
  }
 },
 "nbformat": 4,
 "nbformat_minor": 4
}
